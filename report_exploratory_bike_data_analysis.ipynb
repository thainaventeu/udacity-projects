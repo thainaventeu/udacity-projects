{
 "cells": [
  {
   "cell_type": "markdown",
   "metadata": {},
   "source": [
    "# Metro Bike Share Program in LA: Impact Analysis\n",
    "\n",
    "## by Thainá Venteu \n",
    "\n",
    "## Preliminary Wrangling\n",
    "\n",
    ">Nowadays, bike sharing systems is a common service that we can find in big cities. These kinds of programs become popular due to the practicality it brings. The users can find the closest station to them, travel for any distance and return the bike in any other station. \n",
    "In addition to the practicality, three different types of bicycles are available for customers (standard, electic and smart) and different types of holder pass that can be chosen according to the user's needs.\n",
    "This project aims to analyze the activities from Metro Bike Share Prgoram in the 2019 year for Los Angeles, California metropolitan area. The data are available on company site.  https://bikeshare.metro.net/about/data/) \n"
   ]
  },
  {
   "cell_type": "code",
   "execution_count": 248,
   "metadata": {},
   "outputs": [],
   "source": [
    "import pandas as pd \n",
    "import numpy as np \n",
    "%matplotlib inline\n",
    "import matplotlib.pyplot as plt\n",
    "import seaborn as sb"
   ]
  },
  {
   "cell_type": "markdown",
   "metadata": {},
   "source": [
    "## Data gathering"
   ]
  },
  {
   "cell_type": "code",
   "execution_count": 249,
   "metadata": {},
   "outputs": [
    {
     "data": {
      "text/html": [
       "<div>\n",
       "<style scoped>\n",
       "    .dataframe tbody tr th:only-of-type {\n",
       "        vertical-align: middle;\n",
       "    }\n",
       "\n",
       "    .dataframe tbody tr th {\n",
       "        vertical-align: top;\n",
       "    }\n",
       "\n",
       "    .dataframe thead th {\n",
       "        text-align: right;\n",
       "    }\n",
       "</style>\n",
       "<table border=\"1\" class=\"dataframe\">\n",
       "  <thead>\n",
       "    <tr style=\"text-align: right;\">\n",
       "      <th></th>\n",
       "      <th>trip_id</th>\n",
       "      <th>duration</th>\n",
       "      <th>start_time</th>\n",
       "      <th>end_time</th>\n",
       "      <th>start_station</th>\n",
       "      <th>start_lat</th>\n",
       "      <th>start_lon</th>\n",
       "      <th>end_station</th>\n",
       "      <th>end_lat</th>\n",
       "      <th>end_lon</th>\n",
       "      <th>bike_id</th>\n",
       "      <th>plan_duration</th>\n",
       "      <th>trip_route_category</th>\n",
       "      <th>passholder_type</th>\n",
       "      <th>bike_type</th>\n",
       "    </tr>\n",
       "  </thead>\n",
       "  <tbody>\n",
       "    <tr>\n",
       "      <th>0</th>\n",
       "      <td>112536773</td>\n",
       "      <td>7</td>\n",
       "      <td>2019-01-01 00:07:00</td>\n",
       "      <td>2019-01-01 00:14:00</td>\n",
       "      <td>3046</td>\n",
       "      <td>34.052872</td>\n",
       "      <td>-118.24749</td>\n",
       "      <td>3051</td>\n",
       "      <td>34.045422</td>\n",
       "      <td>-118.253517</td>\n",
       "      <td>06468</td>\n",
       "      <td>1</td>\n",
       "      <td>One Way</td>\n",
       "      <td>Walk-up</td>\n",
       "      <td>standard</td>\n",
       "    </tr>\n",
       "    <tr>\n",
       "      <th>1</th>\n",
       "      <td>112536772</td>\n",
       "      <td>6</td>\n",
       "      <td>2019-01-01 00:08:00</td>\n",
       "      <td>2019-01-01 00:14:00</td>\n",
       "      <td>3046</td>\n",
       "      <td>34.052872</td>\n",
       "      <td>-118.24749</td>\n",
       "      <td>3051</td>\n",
       "      <td>34.045422</td>\n",
       "      <td>-118.253517</td>\n",
       "      <td>12311</td>\n",
       "      <td>1</td>\n",
       "      <td>One Way</td>\n",
       "      <td>Walk-up</td>\n",
       "      <td>standard</td>\n",
       "    </tr>\n",
       "    <tr>\n",
       "      <th>2</th>\n",
       "      <td>112538689</td>\n",
       "      <td>32</td>\n",
       "      <td>2019-01-01 00:18:00</td>\n",
       "      <td>2019-01-01 00:50:00</td>\n",
       "      <td>3030</td>\n",
       "      <td>34.051941</td>\n",
       "      <td>-118.24353</td>\n",
       "      <td>3075</td>\n",
       "      <td>34.042110</td>\n",
       "      <td>-118.256187</td>\n",
       "      <td>05992</td>\n",
       "      <td>1</td>\n",
       "      <td>One Way</td>\n",
       "      <td>Walk-up</td>\n",
       "      <td>standard</td>\n",
       "    </tr>\n",
       "    <tr>\n",
       "      <th>3</th>\n",
       "      <td>112538688</td>\n",
       "      <td>30</td>\n",
       "      <td>2019-01-01 00:20:00</td>\n",
       "      <td>2019-01-01 00:50:00</td>\n",
       "      <td>3030</td>\n",
       "      <td>34.051941</td>\n",
       "      <td>-118.24353</td>\n",
       "      <td>3075</td>\n",
       "      <td>34.042110</td>\n",
       "      <td>-118.256187</td>\n",
       "      <td>05860</td>\n",
       "      <td>1</td>\n",
       "      <td>One Way</td>\n",
       "      <td>Walk-up</td>\n",
       "      <td>standard</td>\n",
       "    </tr>\n",
       "    <tr>\n",
       "      <th>4</th>\n",
       "      <td>112538687</td>\n",
       "      <td>28</td>\n",
       "      <td>2019-01-01 00:22:00</td>\n",
       "      <td>2019-01-01 00:50:00</td>\n",
       "      <td>3030</td>\n",
       "      <td>34.051941</td>\n",
       "      <td>-118.24353</td>\n",
       "      <td>3075</td>\n",
       "      <td>34.042110</td>\n",
       "      <td>-118.256187</td>\n",
       "      <td>06006</td>\n",
       "      <td>1</td>\n",
       "      <td>One Way</td>\n",
       "      <td>Walk-up</td>\n",
       "      <td>standard</td>\n",
       "    </tr>\n",
       "  </tbody>\n",
       "</table>\n",
       "</div>"
      ],
      "text/plain": [
       "     trip_id  duration           start_time             end_time  \\\n",
       "0  112536773         7  2019-01-01 00:07:00  2019-01-01 00:14:00   \n",
       "1  112536772         6  2019-01-01 00:08:00  2019-01-01 00:14:00   \n",
       "2  112538689        32  2019-01-01 00:18:00  2019-01-01 00:50:00   \n",
       "3  112538688        30  2019-01-01 00:20:00  2019-01-01 00:50:00   \n",
       "4  112538687        28  2019-01-01 00:22:00  2019-01-01 00:50:00   \n",
       "\n",
       "   start_station  start_lat  start_lon  end_station    end_lat     end_lon  \\\n",
       "0           3046  34.052872 -118.24749         3051  34.045422 -118.253517   \n",
       "1           3046  34.052872 -118.24749         3051  34.045422 -118.253517   \n",
       "2           3030  34.051941 -118.24353         3075  34.042110 -118.256187   \n",
       "3           3030  34.051941 -118.24353         3075  34.042110 -118.256187   \n",
       "4           3030  34.051941 -118.24353         3075  34.042110 -118.256187   \n",
       "\n",
       "  bike_id  plan_duration trip_route_category passholder_type bike_type  \n",
       "0   06468              1             One Way         Walk-up  standard  \n",
       "1   12311              1             One Way         Walk-up  standard  \n",
       "2   05992              1             One Way         Walk-up  standard  \n",
       "3   05860              1             One Way         Walk-up  standard  \n",
       "4   06006              1             One Way         Walk-up  standard  "
      ]
     },
     "execution_count": 249,
     "metadata": {},
     "output_type": "execute_result"
    }
   ],
   "source": [
    "df1 = pd.read_csv('metro-bike-share-trips-2019-q1.csv', sep = ',')\n",
    "df1.head()"
   ]
  },
  {
   "cell_type": "code",
   "execution_count": 250,
   "metadata": {},
   "outputs": [
    {
     "data": {
      "text/html": [
       "<div>\n",
       "<style scoped>\n",
       "    .dataframe tbody tr th:only-of-type {\n",
       "        vertical-align: middle;\n",
       "    }\n",
       "\n",
       "    .dataframe tbody tr th {\n",
       "        vertical-align: top;\n",
       "    }\n",
       "\n",
       "    .dataframe thead th {\n",
       "        text-align: right;\n",
       "    }\n",
       "</style>\n",
       "<table border=\"1\" class=\"dataframe\">\n",
       "  <thead>\n",
       "    <tr style=\"text-align: right;\">\n",
       "      <th></th>\n",
       "      <th>trip_id</th>\n",
       "      <th>duration</th>\n",
       "      <th>start_time</th>\n",
       "      <th>end_time</th>\n",
       "      <th>start_station</th>\n",
       "      <th>start_lat</th>\n",
       "      <th>start_lon</th>\n",
       "      <th>end_station</th>\n",
       "      <th>end_lat</th>\n",
       "      <th>end_lon</th>\n",
       "      <th>bike_id</th>\n",
       "      <th>plan_duration</th>\n",
       "      <th>trip_route_category</th>\n",
       "      <th>passholder_type</th>\n",
       "      <th>bike_type</th>\n",
       "    </tr>\n",
       "  </thead>\n",
       "  <tbody>\n",
       "    <tr>\n",
       "      <th>0</th>\n",
       "      <td>118571839</td>\n",
       "      <td>7</td>\n",
       "      <td>2019-04-01 00:02:00</td>\n",
       "      <td>2019-04-01 00:09:00</td>\n",
       "      <td>3069</td>\n",
       "      <td>34.050880</td>\n",
       "      <td>-118.248253</td>\n",
       "      <td>3034</td>\n",
       "      <td>34.042061</td>\n",
       "      <td>-118.263382</td>\n",
       "      <td>6459</td>\n",
       "      <td>1</td>\n",
       "      <td>One Way</td>\n",
       "      <td>Walk-up</td>\n",
       "      <td>standard</td>\n",
       "    </tr>\n",
       "    <tr>\n",
       "      <th>1</th>\n",
       "      <td>118574695</td>\n",
       "      <td>12</td>\n",
       "      <td>2019-04-01 00:56:00</td>\n",
       "      <td>2019-04-01 01:08:00</td>\n",
       "      <td>3031</td>\n",
       "      <td>34.044701</td>\n",
       "      <td>-118.252441</td>\n",
       "      <td>4311</td>\n",
       "      <td>34.059689</td>\n",
       "      <td>-118.294662</td>\n",
       "      <td>12229</td>\n",
       "      <td>30</td>\n",
       "      <td>One Way</td>\n",
       "      <td>Monthly Pass</td>\n",
       "      <td>standard</td>\n",
       "    </tr>\n",
       "    <tr>\n",
       "      <th>2</th>\n",
       "      <td>118575167</td>\n",
       "      <td>12</td>\n",
       "      <td>2019-04-01 01:06:00</td>\n",
       "      <td>2019-04-01 01:18:00</td>\n",
       "      <td>3038</td>\n",
       "      <td>34.046822</td>\n",
       "      <td>-118.248352</td>\n",
       "      <td>3082</td>\n",
       "      <td>34.046520</td>\n",
       "      <td>-118.237411</td>\n",
       "      <td>6422</td>\n",
       "      <td>1</td>\n",
       "      <td>One Way</td>\n",
       "      <td>Walk-up</td>\n",
       "      <td>standard</td>\n",
       "    </tr>\n",
       "    <tr>\n",
       "      <th>3</th>\n",
       "      <td>118577060</td>\n",
       "      <td>48</td>\n",
       "      <td>2019-04-01 01:08:00</td>\n",
       "      <td>2019-04-01 01:56:00</td>\n",
       "      <td>3068</td>\n",
       "      <td>34.053200</td>\n",
       "      <td>-118.250954</td>\n",
       "      <td>3005</td>\n",
       "      <td>34.048500</td>\n",
       "      <td>-118.258537</td>\n",
       "      <td>12211</td>\n",
       "      <td>30</td>\n",
       "      <td>One Way</td>\n",
       "      <td>Monthly Pass</td>\n",
       "      <td>standard</td>\n",
       "    </tr>\n",
       "    <tr>\n",
       "      <th>4</th>\n",
       "      <td>118575166</td>\n",
       "      <td>9</td>\n",
       "      <td>2019-04-01 01:09:00</td>\n",
       "      <td>2019-04-01 01:18:00</td>\n",
       "      <td>3038</td>\n",
       "      <td>34.046822</td>\n",
       "      <td>-118.248352</td>\n",
       "      <td>3082</td>\n",
       "      <td>34.046520</td>\n",
       "      <td>-118.237411</td>\n",
       "      <td>12005</td>\n",
       "      <td>1</td>\n",
       "      <td>One Way</td>\n",
       "      <td>Walk-up</td>\n",
       "      <td>standard</td>\n",
       "    </tr>\n",
       "  </tbody>\n",
       "</table>\n",
       "</div>"
      ],
      "text/plain": [
       "     trip_id  duration           start_time             end_time  \\\n",
       "0  118571839         7  2019-04-01 00:02:00  2019-04-01 00:09:00   \n",
       "1  118574695        12  2019-04-01 00:56:00  2019-04-01 01:08:00   \n",
       "2  118575167        12  2019-04-01 01:06:00  2019-04-01 01:18:00   \n",
       "3  118577060        48  2019-04-01 01:08:00  2019-04-01 01:56:00   \n",
       "4  118575166         9  2019-04-01 01:09:00  2019-04-01 01:18:00   \n",
       "\n",
       "   start_station  start_lat   start_lon  end_station    end_lat     end_lon  \\\n",
       "0           3069  34.050880 -118.248253         3034  34.042061 -118.263382   \n",
       "1           3031  34.044701 -118.252441         4311  34.059689 -118.294662   \n",
       "2           3038  34.046822 -118.248352         3082  34.046520 -118.237411   \n",
       "3           3068  34.053200 -118.250954         3005  34.048500 -118.258537   \n",
       "4           3038  34.046822 -118.248352         3082  34.046520 -118.237411   \n",
       "\n",
       "   bike_id  plan_duration trip_route_category passholder_type bike_type  \n",
       "0     6459              1             One Way         Walk-up  standard  \n",
       "1    12229             30             One Way    Monthly Pass  standard  \n",
       "2     6422              1             One Way         Walk-up  standard  \n",
       "3    12211             30             One Way    Monthly Pass  standard  \n",
       "4    12005              1             One Way         Walk-up  standard  "
      ]
     },
     "execution_count": 250,
     "metadata": {},
     "output_type": "execute_result"
    }
   ],
   "source": [
    "df2 = pd.read_csv('metro-bike-share-trips-2019-q2.csv', sep = ',')\n",
    "df2.head()"
   ]
  },
  {
   "cell_type": "code",
   "execution_count": 251,
   "metadata": {},
   "outputs": [
    {
     "name": "stderr",
     "output_type": "stream",
     "text": [
      "C:\\Users\\Public\\anaconda2\\lib\\site-packages\\IPython\\core\\interactiveshell.py:3058: DtypeWarning: Columns (10) have mixed types.Specify dtype option on import or set low_memory=False.\n",
      "  interactivity=interactivity, compiler=compiler, result=result)\n"
     ]
    },
    {
     "data": {
      "text/html": [
       "<div>\n",
       "<style scoped>\n",
       "    .dataframe tbody tr th:only-of-type {\n",
       "        vertical-align: middle;\n",
       "    }\n",
       "\n",
       "    .dataframe tbody tr th {\n",
       "        vertical-align: top;\n",
       "    }\n",
       "\n",
       "    .dataframe thead th {\n",
       "        text-align: right;\n",
       "    }\n",
       "</style>\n",
       "<table border=\"1\" class=\"dataframe\">\n",
       "  <thead>\n",
       "    <tr style=\"text-align: right;\">\n",
       "      <th></th>\n",
       "      <th>trip_id</th>\n",
       "      <th>duration</th>\n",
       "      <th>start_time</th>\n",
       "      <th>end_time</th>\n",
       "      <th>start_station</th>\n",
       "      <th>start_lat</th>\n",
       "      <th>start_lon</th>\n",
       "      <th>end_station</th>\n",
       "      <th>end_lat</th>\n",
       "      <th>end_lon</th>\n",
       "      <th>bike_id</th>\n",
       "      <th>plan_duration</th>\n",
       "      <th>trip_route_category</th>\n",
       "      <th>passholder_type</th>\n",
       "      <th>bike_type</th>\n",
       "    </tr>\n",
       "  </thead>\n",
       "  <tbody>\n",
       "    <tr>\n",
       "      <th>0</th>\n",
       "      <td>124657107</td>\n",
       "      <td>5</td>\n",
       "      <td>7/1/2019 0:04</td>\n",
       "      <td>7/1/2019 0:09</td>\n",
       "      <td>4312</td>\n",
       "      <td>34.066990</td>\n",
       "      <td>-118.290878</td>\n",
       "      <td>4410</td>\n",
       "      <td>34.063351</td>\n",
       "      <td>-118.296799</td>\n",
       "      <td>6168</td>\n",
       "      <td>30</td>\n",
       "      <td>One Way</td>\n",
       "      <td>Monthly Pass</td>\n",
       "      <td>standard</td>\n",
       "    </tr>\n",
       "    <tr>\n",
       "      <th>1</th>\n",
       "      <td>124657587</td>\n",
       "      <td>9</td>\n",
       "      <td>7/1/2019 0:07</td>\n",
       "      <td>7/1/2019 0:16</td>\n",
       "      <td>3066</td>\n",
       "      <td>34.063389</td>\n",
       "      <td>-118.236160</td>\n",
       "      <td>3066</td>\n",
       "      <td>34.063389</td>\n",
       "      <td>-118.236160</td>\n",
       "      <td>17584</td>\n",
       "      <td>30</td>\n",
       "      <td>Round Trip</td>\n",
       "      <td>Monthly Pass</td>\n",
       "      <td>electric</td>\n",
       "    </tr>\n",
       "    <tr>\n",
       "      <th>2</th>\n",
       "      <td>124658068</td>\n",
       "      <td>5</td>\n",
       "      <td>7/1/2019 0:20</td>\n",
       "      <td>7/1/2019 0:25</td>\n",
       "      <td>4410</td>\n",
       "      <td>34.063351</td>\n",
       "      <td>-118.296799</td>\n",
       "      <td>4312</td>\n",
       "      <td>34.066990</td>\n",
       "      <td>-118.290878</td>\n",
       "      <td>18920</td>\n",
       "      <td>30</td>\n",
       "      <td>One Way</td>\n",
       "      <td>Monthly Pass</td>\n",
       "      <td>electric</td>\n",
       "    </tr>\n",
       "    <tr>\n",
       "      <th>3</th>\n",
       "      <td>124659747</td>\n",
       "      <td>20</td>\n",
       "      <td>7/1/2019 0:44</td>\n",
       "      <td>7/1/2019 1:04</td>\n",
       "      <td>3045</td>\n",
       "      <td>34.028511</td>\n",
       "      <td>-118.256668</td>\n",
       "      <td>4275</td>\n",
       "      <td>34.012520</td>\n",
       "      <td>-118.285896</td>\n",
       "      <td>6016</td>\n",
       "      <td>1</td>\n",
       "      <td>One Way</td>\n",
       "      <td>Walk-up</td>\n",
       "      <td>standard</td>\n",
       "    </tr>\n",
       "    <tr>\n",
       "      <th>4</th>\n",
       "      <td>124660227</td>\n",
       "      <td>27</td>\n",
       "      <td>7/1/2019 0:44</td>\n",
       "      <td>7/1/2019 1:11</td>\n",
       "      <td>3035</td>\n",
       "      <td>34.048401</td>\n",
       "      <td>-118.260948</td>\n",
       "      <td>3049</td>\n",
       "      <td>34.056969</td>\n",
       "      <td>-118.253593</td>\n",
       "      <td>5867</td>\n",
       "      <td>30</td>\n",
       "      <td>One Way</td>\n",
       "      <td>Monthly Pass</td>\n",
       "      <td>standard</td>\n",
       "    </tr>\n",
       "  </tbody>\n",
       "</table>\n",
       "</div>"
      ],
      "text/plain": [
       "     trip_id  duration     start_time       end_time  start_station  \\\n",
       "0  124657107         5  7/1/2019 0:04  7/1/2019 0:09           4312   \n",
       "1  124657587         9  7/1/2019 0:07  7/1/2019 0:16           3066   \n",
       "2  124658068         5  7/1/2019 0:20  7/1/2019 0:25           4410   \n",
       "3  124659747        20  7/1/2019 0:44  7/1/2019 1:04           3045   \n",
       "4  124660227        27  7/1/2019 0:44  7/1/2019 1:11           3035   \n",
       "\n",
       "   start_lat   start_lon  end_station    end_lat     end_lon bike_id  \\\n",
       "0  34.066990 -118.290878         4410  34.063351 -118.296799    6168   \n",
       "1  34.063389 -118.236160         3066  34.063389 -118.236160   17584   \n",
       "2  34.063351 -118.296799         4312  34.066990 -118.290878   18920   \n",
       "3  34.028511 -118.256668         4275  34.012520 -118.285896    6016   \n",
       "4  34.048401 -118.260948         3049  34.056969 -118.253593    5867   \n",
       "\n",
       "   plan_duration trip_route_category passholder_type bike_type  \n",
       "0             30             One Way    Monthly Pass  standard  \n",
       "1             30          Round Trip    Monthly Pass  electric  \n",
       "2             30             One Way    Monthly Pass  electric  \n",
       "3              1             One Way         Walk-up  standard  \n",
       "4             30             One Way    Monthly Pass  standard  "
      ]
     },
     "execution_count": 251,
     "metadata": {},
     "output_type": "execute_result"
    }
   ],
   "source": [
    "df3 = pd.read_csv('metro-bike-share-trips-2019-q3.csv', sep = ',')\n",
    "df3.head()"
   ]
  },
  {
   "cell_type": "code",
   "execution_count": 252,
   "metadata": {},
   "outputs": [
    {
     "data": {
      "text/html": [
       "<div>\n",
       "<style scoped>\n",
       "    .dataframe tbody tr th:only-of-type {\n",
       "        vertical-align: middle;\n",
       "    }\n",
       "\n",
       "    .dataframe tbody tr th {\n",
       "        vertical-align: top;\n",
       "    }\n",
       "\n",
       "    .dataframe thead th {\n",
       "        text-align: right;\n",
       "    }\n",
       "</style>\n",
       "<table border=\"1\" class=\"dataframe\">\n",
       "  <thead>\n",
       "    <tr style=\"text-align: right;\">\n",
       "      <th></th>\n",
       "      <th>trip_id</th>\n",
       "      <th>duration</th>\n",
       "      <th>start_time</th>\n",
       "      <th>end_time</th>\n",
       "      <th>start_station</th>\n",
       "      <th>start_lat</th>\n",
       "      <th>start_lon</th>\n",
       "      <th>end_station</th>\n",
       "      <th>end_lat</th>\n",
       "      <th>end_lon</th>\n",
       "      <th>bike_id</th>\n",
       "      <th>plan_duration</th>\n",
       "      <th>trip_route_category</th>\n",
       "      <th>passholder_type</th>\n",
       "      <th>bike_type</th>\n",
       "    </tr>\n",
       "  </thead>\n",
       "  <tbody>\n",
       "    <tr>\n",
       "      <th>0</th>\n",
       "      <td>130053086</td>\n",
       "      <td>25</td>\n",
       "      <td>2019-10-01 00:03:10</td>\n",
       "      <td>2019-10-01 00:28:40</td>\n",
       "      <td>3049</td>\n",
       "      <td>34.056969</td>\n",
       "      <td>-118.253593</td>\n",
       "      <td>3038</td>\n",
       "      <td>34.046822</td>\n",
       "      <td>-118.248352</td>\n",
       "      <td>16580</td>\n",
       "      <td>365</td>\n",
       "      <td>One Way</td>\n",
       "      <td>Annual Pass</td>\n",
       "      <td>electric</td>\n",
       "    </tr>\n",
       "    <tr>\n",
       "      <th>1</th>\n",
       "      <td>130053085</td>\n",
       "      <td>2</td>\n",
       "      <td>2019-10-01 00:07:43</td>\n",
       "      <td>2019-10-01 00:09:44</td>\n",
       "      <td>3067</td>\n",
       "      <td>34.045181</td>\n",
       "      <td>-118.250237</td>\n",
       "      <td>3029</td>\n",
       "      <td>34.048851</td>\n",
       "      <td>-118.246422</td>\n",
       "      <td>19587</td>\n",
       "      <td>30</td>\n",
       "      <td>One Way</td>\n",
       "      <td>Monthly Pass</td>\n",
       "      <td>electric</td>\n",
       "    </tr>\n",
       "    <tr>\n",
       "      <th>2</th>\n",
       "      <td>130053084</td>\n",
       "      <td>15</td>\n",
       "      <td>2019-10-01 00:17:30</td>\n",
       "      <td>2019-10-01 00:32:01</td>\n",
       "      <td>4420</td>\n",
       "      <td>34.168629</td>\n",
       "      <td>-118.377068</td>\n",
       "      <td>4416</td>\n",
       "      <td>34.157581</td>\n",
       "      <td>-118.388260</td>\n",
       "      <td>15625</td>\n",
       "      <td>30</td>\n",
       "      <td>One Way</td>\n",
       "      <td>Monthly Pass</td>\n",
       "      <td>smart</td>\n",
       "    </tr>\n",
       "    <tr>\n",
       "      <th>3</th>\n",
       "      <td>130053083</td>\n",
       "      <td>4</td>\n",
       "      <td>2019-10-01 00:18:20</td>\n",
       "      <td>2019-10-01 00:22:34</td>\n",
       "      <td>3031</td>\n",
       "      <td>34.044701</td>\n",
       "      <td>-118.252441</td>\n",
       "      <td>3006</td>\n",
       "      <td>34.045540</td>\n",
       "      <td>-118.256668</td>\n",
       "      <td>12450</td>\n",
       "      <td>365</td>\n",
       "      <td>One Way</td>\n",
       "      <td>Annual Pass</td>\n",
       "      <td>standard</td>\n",
       "    </tr>\n",
       "    <tr>\n",
       "      <th>4</th>\n",
       "      <td>130053082</td>\n",
       "      <td>20</td>\n",
       "      <td>2019-10-01 00:22:09</td>\n",
       "      <td>2019-10-01 00:42:53</td>\n",
       "      <td>3042</td>\n",
       "      <td>34.049301</td>\n",
       "      <td>-118.238808</td>\n",
       "      <td>4314</td>\n",
       "      <td>34.057709</td>\n",
       "      <td>-118.279762</td>\n",
       "      <td>17519</td>\n",
       "      <td>365</td>\n",
       "      <td>One Way</td>\n",
       "      <td>Annual Pass</td>\n",
       "      <td>electric</td>\n",
       "    </tr>\n",
       "  </tbody>\n",
       "</table>\n",
       "</div>"
      ],
      "text/plain": [
       "     trip_id  duration           start_time             end_time  \\\n",
       "0  130053086        25  2019-10-01 00:03:10  2019-10-01 00:28:40   \n",
       "1  130053085         2  2019-10-01 00:07:43  2019-10-01 00:09:44   \n",
       "2  130053084        15  2019-10-01 00:17:30  2019-10-01 00:32:01   \n",
       "3  130053083         4  2019-10-01 00:18:20  2019-10-01 00:22:34   \n",
       "4  130053082        20  2019-10-01 00:22:09  2019-10-01 00:42:53   \n",
       "\n",
       "   start_station  start_lat   start_lon  end_station    end_lat     end_lon  \\\n",
       "0           3049  34.056969 -118.253593         3038  34.046822 -118.248352   \n",
       "1           3067  34.045181 -118.250237         3029  34.048851 -118.246422   \n",
       "2           4420  34.168629 -118.377068         4416  34.157581 -118.388260   \n",
       "3           3031  34.044701 -118.252441         3006  34.045540 -118.256668   \n",
       "4           3042  34.049301 -118.238808         4314  34.057709 -118.279762   \n",
       "\n",
       "   bike_id  plan_duration trip_route_category passholder_type bike_type  \n",
       "0    16580            365             One Way     Annual Pass  electric  \n",
       "1    19587             30             One Way    Monthly Pass  electric  \n",
       "2    15625             30             One Way    Monthly Pass     smart  \n",
       "3    12450            365             One Way     Annual Pass  standard  \n",
       "4    17519            365             One Way     Annual Pass  electric  "
      ]
     },
     "execution_count": 252,
     "metadata": {},
     "output_type": "execute_result"
    }
   ],
   "source": [
    "df4 = pd.read_csv('metro-bike-share-trips-2019-q4.csv', sep = ',')\n",
    "df4.head()"
   ]
  },
  {
   "cell_type": "code",
   "execution_count": 253,
   "metadata": {},
   "outputs": [
    {
     "name": "stdout",
     "output_type": "stream",
     "text": [
      "(57358, 15) (64545, 15) (92124, 15) (76315, 15)\n"
     ]
    }
   ],
   "source": [
    "#structure of dataset\n",
    "print(df1.shape, df2.shape, df3.shape, df4.shape)"
   ]
  },
  {
   "cell_type": "markdown",
   "metadata": {},
   "source": [
    "#### The dataset structure is shaped by four datase separated each four month"
   ]
  },
  {
   "cell_type": "code",
   "execution_count": 254,
   "metadata": {},
   "outputs": [],
   "source": [
    "#attaching df1, df2, df3, df4\n",
    "df = pd.concat([df1, df2, df3, df4])"
   ]
  },
  {
   "cell_type": "code",
   "execution_count": 255,
   "metadata": {},
   "outputs": [
    {
     "name": "stdout",
     "output_type": "stream",
     "text": [
      "<class 'pandas.core.frame.DataFrame'>\n",
      "Int64Index: 290342 entries, 0 to 76314\n",
      "Data columns (total 15 columns):\n",
      " #   Column               Non-Null Count   Dtype  \n",
      "---  ------               --------------   -----  \n",
      " 0   trip_id              290342 non-null  int64  \n",
      " 1   duration             290342 non-null  int64  \n",
      " 2   start_time           290342 non-null  object \n",
      " 3   end_time             290342 non-null  object \n",
      " 4   start_station        290342 non-null  int64  \n",
      " 5   start_lat            285505 non-null  float64\n",
      " 6   start_lon            285505 non-null  float64\n",
      " 7   end_station          290342 non-null  int64  \n",
      " 8   end_lat              279757 non-null  float64\n",
      " 9   end_lon              279757 non-null  float64\n",
      " 10  bike_id              290342 non-null  object \n",
      " 11  plan_duration        290342 non-null  int64  \n",
      " 12  trip_route_category  290342 non-null  object \n",
      " 13  passholder_type      290342 non-null  object \n",
      " 14  bike_type            290342 non-null  object \n",
      "dtypes: float64(4), int64(5), object(6)\n",
      "memory usage: 35.4+ MB\n"
     ]
    }
   ],
   "source": [
    "#main features\n",
    "df.info()"
   ]
  },
  {
   "cell_type": "markdown",
   "metadata": {},
   "source": [
    "The study will be supported in the 'duration', 'start_time', 'end_time', 'passholder_type' and 'bike_type'. "
   ]
  },
  {
   "cell_type": "markdown",
   "metadata": {},
   "source": [
    "## Data assessing"
   ]
  },
  {
   "cell_type": "code",
   "execution_count": 256,
   "metadata": {},
   "outputs": [
    {
     "data": {
      "text/html": [
       "<div>\n",
       "<style scoped>\n",
       "    .dataframe tbody tr th:only-of-type {\n",
       "        vertical-align: middle;\n",
       "    }\n",
       "\n",
       "    .dataframe tbody tr th {\n",
       "        vertical-align: top;\n",
       "    }\n",
       "\n",
       "    .dataframe thead th {\n",
       "        text-align: right;\n",
       "    }\n",
       "</style>\n",
       "<table border=\"1\" class=\"dataframe\">\n",
       "  <thead>\n",
       "    <tr style=\"text-align: right;\">\n",
       "      <th></th>\n",
       "      <th>trip_id</th>\n",
       "      <th>duration</th>\n",
       "      <th>start_time</th>\n",
       "      <th>end_time</th>\n",
       "      <th>start_station</th>\n",
       "      <th>start_lat</th>\n",
       "      <th>start_lon</th>\n",
       "      <th>end_station</th>\n",
       "      <th>end_lat</th>\n",
       "      <th>end_lon</th>\n",
       "      <th>bike_id</th>\n",
       "      <th>plan_duration</th>\n",
       "      <th>trip_route_category</th>\n",
       "      <th>passholder_type</th>\n",
       "      <th>bike_type</th>\n",
       "    </tr>\n",
       "  </thead>\n",
       "  <tbody>\n",
       "    <tr>\n",
       "      <th>0</th>\n",
       "      <td>112536773</td>\n",
       "      <td>7</td>\n",
       "      <td>2019-01-01 00:07:00</td>\n",
       "      <td>2019-01-01 00:14:00</td>\n",
       "      <td>3046</td>\n",
       "      <td>34.052872</td>\n",
       "      <td>-118.24749</td>\n",
       "      <td>3051</td>\n",
       "      <td>34.045422</td>\n",
       "      <td>-118.253517</td>\n",
       "      <td>06468</td>\n",
       "      <td>1</td>\n",
       "      <td>One Way</td>\n",
       "      <td>Walk-up</td>\n",
       "      <td>standard</td>\n",
       "    </tr>\n",
       "    <tr>\n",
       "      <th>1</th>\n",
       "      <td>112536772</td>\n",
       "      <td>6</td>\n",
       "      <td>2019-01-01 00:08:00</td>\n",
       "      <td>2019-01-01 00:14:00</td>\n",
       "      <td>3046</td>\n",
       "      <td>34.052872</td>\n",
       "      <td>-118.24749</td>\n",
       "      <td>3051</td>\n",
       "      <td>34.045422</td>\n",
       "      <td>-118.253517</td>\n",
       "      <td>12311</td>\n",
       "      <td>1</td>\n",
       "      <td>One Way</td>\n",
       "      <td>Walk-up</td>\n",
       "      <td>standard</td>\n",
       "    </tr>\n",
       "    <tr>\n",
       "      <th>2</th>\n",
       "      <td>112538689</td>\n",
       "      <td>32</td>\n",
       "      <td>2019-01-01 00:18:00</td>\n",
       "      <td>2019-01-01 00:50:00</td>\n",
       "      <td>3030</td>\n",
       "      <td>34.051941</td>\n",
       "      <td>-118.24353</td>\n",
       "      <td>3075</td>\n",
       "      <td>34.042110</td>\n",
       "      <td>-118.256187</td>\n",
       "      <td>05992</td>\n",
       "      <td>1</td>\n",
       "      <td>One Way</td>\n",
       "      <td>Walk-up</td>\n",
       "      <td>standard</td>\n",
       "    </tr>\n",
       "    <tr>\n",
       "      <th>3</th>\n",
       "      <td>112538688</td>\n",
       "      <td>30</td>\n",
       "      <td>2019-01-01 00:20:00</td>\n",
       "      <td>2019-01-01 00:50:00</td>\n",
       "      <td>3030</td>\n",
       "      <td>34.051941</td>\n",
       "      <td>-118.24353</td>\n",
       "      <td>3075</td>\n",
       "      <td>34.042110</td>\n",
       "      <td>-118.256187</td>\n",
       "      <td>05860</td>\n",
       "      <td>1</td>\n",
       "      <td>One Way</td>\n",
       "      <td>Walk-up</td>\n",
       "      <td>standard</td>\n",
       "    </tr>\n",
       "    <tr>\n",
       "      <th>4</th>\n",
       "      <td>112538687</td>\n",
       "      <td>28</td>\n",
       "      <td>2019-01-01 00:22:00</td>\n",
       "      <td>2019-01-01 00:50:00</td>\n",
       "      <td>3030</td>\n",
       "      <td>34.051941</td>\n",
       "      <td>-118.24353</td>\n",
       "      <td>3075</td>\n",
       "      <td>34.042110</td>\n",
       "      <td>-118.256187</td>\n",
       "      <td>06006</td>\n",
       "      <td>1</td>\n",
       "      <td>One Way</td>\n",
       "      <td>Walk-up</td>\n",
       "      <td>standard</td>\n",
       "    </tr>\n",
       "  </tbody>\n",
       "</table>\n",
       "</div>"
      ],
      "text/plain": [
       "     trip_id  duration           start_time             end_time  \\\n",
       "0  112536773         7  2019-01-01 00:07:00  2019-01-01 00:14:00   \n",
       "1  112536772         6  2019-01-01 00:08:00  2019-01-01 00:14:00   \n",
       "2  112538689        32  2019-01-01 00:18:00  2019-01-01 00:50:00   \n",
       "3  112538688        30  2019-01-01 00:20:00  2019-01-01 00:50:00   \n",
       "4  112538687        28  2019-01-01 00:22:00  2019-01-01 00:50:00   \n",
       "\n",
       "   start_station  start_lat  start_lon  end_station    end_lat     end_lon  \\\n",
       "0           3046  34.052872 -118.24749         3051  34.045422 -118.253517   \n",
       "1           3046  34.052872 -118.24749         3051  34.045422 -118.253517   \n",
       "2           3030  34.051941 -118.24353         3075  34.042110 -118.256187   \n",
       "3           3030  34.051941 -118.24353         3075  34.042110 -118.256187   \n",
       "4           3030  34.051941 -118.24353         3075  34.042110 -118.256187   \n",
       "\n",
       "  bike_id  plan_duration trip_route_category passholder_type bike_type  \n",
       "0   06468              1             One Way         Walk-up  standard  \n",
       "1   12311              1             One Way         Walk-up  standard  \n",
       "2   05992              1             One Way         Walk-up  standard  \n",
       "3   05860              1             One Way         Walk-up  standard  \n",
       "4   06006              1             One Way         Walk-up  standard  "
      ]
     },
     "execution_count": 256,
     "metadata": {},
     "output_type": "execute_result"
    }
   ],
   "source": [
    "df.head()"
   ]
  },
  {
   "cell_type": "code",
   "execution_count": 257,
   "metadata": {},
   "outputs": [
    {
     "data": {
      "text/plain": [
       "(290342, 15)"
      ]
     },
     "execution_count": 257,
     "metadata": {},
     "output_type": "execute_result"
    }
   ],
   "source": [
    "df.shape"
   ]
  },
  {
   "cell_type": "code",
   "execution_count": 258,
   "metadata": {},
   "outputs": [
    {
     "name": "stdout",
     "output_type": "stream",
     "text": [
      "<class 'pandas.core.frame.DataFrame'>\n",
      "Int64Index: 290342 entries, 0 to 76314\n",
      "Data columns (total 15 columns):\n",
      " #   Column               Non-Null Count   Dtype  \n",
      "---  ------               --------------   -----  \n",
      " 0   trip_id              290342 non-null  int64  \n",
      " 1   duration             290342 non-null  int64  \n",
      " 2   start_time           290342 non-null  object \n",
      " 3   end_time             290342 non-null  object \n",
      " 4   start_station        290342 non-null  int64  \n",
      " 5   start_lat            285505 non-null  float64\n",
      " 6   start_lon            285505 non-null  float64\n",
      " 7   end_station          290342 non-null  int64  \n",
      " 8   end_lat              279757 non-null  float64\n",
      " 9   end_lon              279757 non-null  float64\n",
      " 10  bike_id              290342 non-null  object \n",
      " 11  plan_duration        290342 non-null  int64  \n",
      " 12  trip_route_category  290342 non-null  object \n",
      " 13  passholder_type      290342 non-null  object \n",
      " 14  bike_type            290342 non-null  object \n",
      "dtypes: float64(4), int64(5), object(6)\n",
      "memory usage: 35.4+ MB\n"
     ]
    }
   ],
   "source": [
    "df.info()"
   ]
  },
  {
   "cell_type": "code",
   "execution_count": 259,
   "metadata": {},
   "outputs": [
    {
     "data": {
      "text/plain": [
       "0"
      ]
     },
     "execution_count": 259,
     "metadata": {},
     "output_type": "execute_result"
    }
   ],
   "source": [
    "#Checking the all the duplicated lines\n",
    "df.duplicated().sum()"
   ]
  },
  {
   "cell_type": "markdown",
   "metadata": {},
   "source": [
    "There are not duplicated values."
   ]
  },
  {
   "cell_type": "code",
   "execution_count": 260,
   "metadata": {},
   "outputs": [
    {
     "data": {
      "text/plain": [
       "trip_id                    0\n",
       "duration                   0\n",
       "start_time                 0\n",
       "end_time                   0\n",
       "start_station              0\n",
       "start_lat               4837\n",
       "start_lon               4837\n",
       "end_station                0\n",
       "end_lat                10585\n",
       "end_lon                10585\n",
       "bike_id                    0\n",
       "plan_duration              0\n",
       "trip_route_category        0\n",
       "passholder_type            0\n",
       "bike_type                  0\n",
       "dtype: int64"
      ]
     },
     "execution_count": 260,
     "metadata": {},
     "output_type": "execute_result"
    }
   ],
   "source": [
    "df.isnull().sum()"
   ]
  },
  {
   "cell_type": "markdown",
   "metadata": {},
   "source": [
    "##### There were null values for 'start_lat' and 'end_lat'. Maybe the connection was lost and we could not access the localization by GPS system. "
   ]
  },
  {
   "cell_type": "code",
   "execution_count": 261,
   "metadata": {},
   "outputs": [
    {
     "data": {
      "text/plain": [
       "standard    154217\n",
       "electric     96490\n",
       "smart        39635\n",
       "Name: bike_type, dtype: int64"
      ]
     },
     "execution_count": 261,
     "metadata": {},
     "output_type": "execute_result"
    }
   ],
   "source": [
    "df['bike_type'].value_counts()"
   ]
  },
  {
   "cell_type": "markdown",
   "metadata": {},
   "source": [
    "There are three type of bike available . "
   ]
  },
  {
   "cell_type": "code",
   "execution_count": 262,
   "metadata": {},
   "outputs": [
    {
     "data": {
      "text/plain": [
       "Monthly Pass    172665\n",
       "Walk-up          80854\n",
       "Annual Pass      21659\n",
       "One Day Pass     14731\n",
       "Flex Pass          320\n",
       "Testing            113\n",
       "Name: passholder_type, dtype: int64"
      ]
     },
     "execution_count": 262,
     "metadata": {},
     "output_type": "execute_result"
    }
   ],
   "source": [
    "df['passholder_type'].value_counts()"
   ]
  },
  {
   "cell_type": "markdown",
   "metadata": {},
   "source": [
    "##### Apparently, there are six different types of pass holder. "
   ]
  },
  {
   "cell_type": "code",
   "execution_count": 263,
   "metadata": {},
   "outputs": [],
   "source": [
    "# According to the official website, the trips below 1 minute are removed from system. However, they were still present in the original dataset.\n",
    "# Checking trips below 1 minute\n",
    "\n",
    "trip_greater_one =  df.query('duration > 1')"
   ]
  },
  {
   "cell_type": "markdown",
   "metadata": {},
   "source": [
    "##### In this dataset, there are not trips below 1 minute. "
   ]
  },
  {
   "cell_type": "markdown",
   "metadata": {},
   "source": [
    "Issues data \n",
    "- There are data separated by comma and separated by bars \n",
    "- There are not columns to indicate the year \n",
    "- There are not columns to indicate the month \n",
    "- There are not columns to indicate the weekday "
   ]
  },
  {
   "cell_type": "markdown",
   "metadata": {},
   "source": [
    "## Data cleaning "
   ]
  },
  {
   "cell_type": "markdown",
   "metadata": {},
   "source": [
    "#### Define"
   ]
  },
  {
   "cell_type": "markdown",
   "metadata": {},
   "source": [
    "- Replace the '/' with '-' in the start_time column \n",
    "- Replace the '/' with '-' in the end_time column \n",
    "- Change the month to string labels\n",
    "- Create the weekday column \n",
    "- Change the weekday values to weekday names"
   ]
  },
  {
   "cell_type": "markdown",
   "metadata": {},
   "source": [
    "#### Code"
   ]
  },
  {
   "cell_type": "code",
   "execution_count": 264,
   "metadata": {},
   "outputs": [],
   "source": [
    "#Replacing '/' with '-'\n",
    "df['start_time'] = df['start_time'].str.replace('/', '-') \n",
    "df['end_time'] = df['end_time'].str.replace('/', '-') "
   ]
  },
  {
   "cell_type": "code",
   "execution_count": 265,
   "metadata": {},
   "outputs": [],
   "source": [
    "#Creating the 'year' column\n",
    "df['year'] = pd.DatetimeIndex(df['start_time']).year"
   ]
  },
  {
   "cell_type": "code",
   "execution_count": 266,
   "metadata": {},
   "outputs": [],
   "source": [
    "#Creating the 'month' column\n",
    "df['month'] = pd.DatetimeIndex(df['start_time']).month"
   ]
  },
  {
   "cell_type": "code",
   "execution_count": 267,
   "metadata": {},
   "outputs": [],
   "source": [
    "#Creating the 'day' column\n",
    "df['day'] =  pd.DatetimeIndex(df['start_time']).day"
   ]
  },
  {
   "cell_type": "code",
   "execution_count": 268,
   "metadata": {
    "scrolled": true
   },
   "outputs": [],
   "source": [
    "#change the month to string labels\n",
    "df['month'] = df['month'].replace(1, 'Jan')\n",
    "df['month'] = df['month'].replace(2, 'Feb')\n",
    "df['month'] = df['month'].replace(3, 'Mar')\n",
    "df['month'] = df['month'].replace(4, 'Apr')\n",
    "df['month'] = df['month'].replace(5, 'May')\n",
    "df['month'] = df['month'].replace(6, 'June')\n",
    "df['month'] = df['month'].replace(7, 'July')\n",
    "df['month'] = df['month'].replace(8, 'Aug')\n",
    "df['month'] = df['month'].replace(9, 'Sep')\n",
    "df['month'] = df['month'].replace(10, 'Oct')\n",
    "df['month'] = df['month'].replace(11, 'Nov')\n",
    "df['month'] = df['month'].replace(12, 'Dec')"
   ]
  },
  {
   "cell_type": "code",
   "execution_count": 269,
   "metadata": {},
   "outputs": [],
   "source": [
    "#Creating the 'weekday' column\n",
    "df['start_time'] = pd.to_datetime(df['start_time'])\n",
    "df['week_day'] = (df['start_time']).dt.weekday"
   ]
  },
  {
   "cell_type": "code",
   "execution_count": 270,
   "metadata": {},
   "outputs": [],
   "source": [
    "#Rename the weekdays values \n",
    "df['week_day'] = df['week_day'].replace(0, 'Mon')\n",
    "df['week_day'] = df['week_day'].replace(1, 'Tue')\n",
    "df['week_day'] = df['week_day'].replace(2, 'Wed')\n",
    "df['week_day'] = df['week_day'].replace(3, 'Thu')\n",
    "df['week_day'] = df['week_day'].replace(4, 'Fri')\n",
    "df['week_day'] = df['week_day'].replace(5, 'Sat')\n",
    "df['week_day'] = df['week_day'].replace(6, 'Sun')"
   ]
  },
  {
   "cell_type": "markdown",
   "metadata": {},
   "source": [
    "#### Test"
   ]
  },
  {
   "cell_type": "code",
   "execution_count": 271,
   "metadata": {},
   "outputs": [
    {
     "data": {
      "text/html": [
       "<div>\n",
       "<style scoped>\n",
       "    .dataframe tbody tr th:only-of-type {\n",
       "        vertical-align: middle;\n",
       "    }\n",
       "\n",
       "    .dataframe tbody tr th {\n",
       "        vertical-align: top;\n",
       "    }\n",
       "\n",
       "    .dataframe thead th {\n",
       "        text-align: right;\n",
       "    }\n",
       "</style>\n",
       "<table border=\"1\" class=\"dataframe\">\n",
       "  <thead>\n",
       "    <tr style=\"text-align: right;\">\n",
       "      <th></th>\n",
       "      <th>trip_id</th>\n",
       "      <th>duration</th>\n",
       "      <th>start_time</th>\n",
       "      <th>end_time</th>\n",
       "      <th>start_station</th>\n",
       "      <th>start_lat</th>\n",
       "      <th>start_lon</th>\n",
       "      <th>end_station</th>\n",
       "      <th>end_lat</th>\n",
       "      <th>end_lon</th>\n",
       "      <th>bike_id</th>\n",
       "      <th>plan_duration</th>\n",
       "      <th>trip_route_category</th>\n",
       "      <th>passholder_type</th>\n",
       "      <th>bike_type</th>\n",
       "      <th>year</th>\n",
       "      <th>month</th>\n",
       "      <th>day</th>\n",
       "      <th>week_day</th>\n",
       "    </tr>\n",
       "  </thead>\n",
       "  <tbody>\n",
       "    <tr>\n",
       "      <th>0</th>\n",
       "      <td>112536773</td>\n",
       "      <td>7</td>\n",
       "      <td>2019-01-01 00:07:00</td>\n",
       "      <td>2019-01-01 00:14:00</td>\n",
       "      <td>3046</td>\n",
       "      <td>34.052872</td>\n",
       "      <td>-118.24749</td>\n",
       "      <td>3051</td>\n",
       "      <td>34.045422</td>\n",
       "      <td>-118.253517</td>\n",
       "      <td>06468</td>\n",
       "      <td>1</td>\n",
       "      <td>One Way</td>\n",
       "      <td>Walk-up</td>\n",
       "      <td>standard</td>\n",
       "      <td>2019</td>\n",
       "      <td>Jan</td>\n",
       "      <td>1</td>\n",
       "      <td>Tue</td>\n",
       "    </tr>\n",
       "    <tr>\n",
       "      <th>1</th>\n",
       "      <td>112536772</td>\n",
       "      <td>6</td>\n",
       "      <td>2019-01-01 00:08:00</td>\n",
       "      <td>2019-01-01 00:14:00</td>\n",
       "      <td>3046</td>\n",
       "      <td>34.052872</td>\n",
       "      <td>-118.24749</td>\n",
       "      <td>3051</td>\n",
       "      <td>34.045422</td>\n",
       "      <td>-118.253517</td>\n",
       "      <td>12311</td>\n",
       "      <td>1</td>\n",
       "      <td>One Way</td>\n",
       "      <td>Walk-up</td>\n",
       "      <td>standard</td>\n",
       "      <td>2019</td>\n",
       "      <td>Jan</td>\n",
       "      <td>1</td>\n",
       "      <td>Tue</td>\n",
       "    </tr>\n",
       "    <tr>\n",
       "      <th>2</th>\n",
       "      <td>112538689</td>\n",
       "      <td>32</td>\n",
       "      <td>2019-01-01 00:18:00</td>\n",
       "      <td>2019-01-01 00:50:00</td>\n",
       "      <td>3030</td>\n",
       "      <td>34.051941</td>\n",
       "      <td>-118.24353</td>\n",
       "      <td>3075</td>\n",
       "      <td>34.042110</td>\n",
       "      <td>-118.256187</td>\n",
       "      <td>05992</td>\n",
       "      <td>1</td>\n",
       "      <td>One Way</td>\n",
       "      <td>Walk-up</td>\n",
       "      <td>standard</td>\n",
       "      <td>2019</td>\n",
       "      <td>Jan</td>\n",
       "      <td>1</td>\n",
       "      <td>Tue</td>\n",
       "    </tr>\n",
       "  </tbody>\n",
       "</table>\n",
       "</div>"
      ],
      "text/plain": [
       "     trip_id  duration          start_time             end_time  \\\n",
       "0  112536773         7 2019-01-01 00:07:00  2019-01-01 00:14:00   \n",
       "1  112536772         6 2019-01-01 00:08:00  2019-01-01 00:14:00   \n",
       "2  112538689        32 2019-01-01 00:18:00  2019-01-01 00:50:00   \n",
       "\n",
       "   start_station  start_lat  start_lon  end_station    end_lat     end_lon  \\\n",
       "0           3046  34.052872 -118.24749         3051  34.045422 -118.253517   \n",
       "1           3046  34.052872 -118.24749         3051  34.045422 -118.253517   \n",
       "2           3030  34.051941 -118.24353         3075  34.042110 -118.256187   \n",
       "\n",
       "  bike_id  plan_duration trip_route_category passholder_type bike_type  year  \\\n",
       "0   06468              1             One Way         Walk-up  standard  2019   \n",
       "1   12311              1             One Way         Walk-up  standard  2019   \n",
       "2   05992              1             One Way         Walk-up  standard  2019   \n",
       "\n",
       "  month  day week_day  \n",
       "0   Jan    1      Tue  \n",
       "1   Jan    1      Tue  \n",
       "2   Jan    1      Tue  "
      ]
     },
     "execution_count": 271,
     "metadata": {},
     "output_type": "execute_result"
    }
   ],
   "source": [
    "#checking the news columns with data \n",
    "df.head(3)"
   ]
  },
  {
   "cell_type": "code",
   "execution_count": 272,
   "metadata": {},
   "outputs": [
    {
     "data": {
      "text/html": [
       "<div>\n",
       "<style scoped>\n",
       "    .dataframe tbody tr th:only-of-type {\n",
       "        vertical-align: middle;\n",
       "    }\n",
       "\n",
       "    .dataframe tbody tr th {\n",
       "        vertical-align: top;\n",
       "    }\n",
       "\n",
       "    .dataframe thead th {\n",
       "        text-align: right;\n",
       "    }\n",
       "</style>\n",
       "<table border=\"1\" class=\"dataframe\">\n",
       "  <thead>\n",
       "    <tr style=\"text-align: right;\">\n",
       "      <th></th>\n",
       "      <th>trip_id</th>\n",
       "      <th>duration</th>\n",
       "      <th>start_time</th>\n",
       "      <th>end_time</th>\n",
       "      <th>start_station</th>\n",
       "      <th>start_lat</th>\n",
       "      <th>start_lon</th>\n",
       "      <th>end_station</th>\n",
       "      <th>end_lat</th>\n",
       "      <th>end_lon</th>\n",
       "      <th>bike_id</th>\n",
       "      <th>plan_duration</th>\n",
       "      <th>trip_route_category</th>\n",
       "      <th>passholder_type</th>\n",
       "      <th>bike_type</th>\n",
       "      <th>year</th>\n",
       "      <th>month</th>\n",
       "      <th>day</th>\n",
       "      <th>week_day</th>\n",
       "    </tr>\n",
       "  </thead>\n",
       "  <tbody>\n",
       "    <tr>\n",
       "      <th>0</th>\n",
       "      <td>124657107</td>\n",
       "      <td>5</td>\n",
       "      <td>2019-07-01 00:04:00</td>\n",
       "      <td>7-1-2019 0:09</td>\n",
       "      <td>4312</td>\n",
       "      <td>34.06699</td>\n",
       "      <td>-118.290878</td>\n",
       "      <td>4410</td>\n",
       "      <td>34.063351</td>\n",
       "      <td>-118.296799</td>\n",
       "      <td>6168</td>\n",
       "      <td>30</td>\n",
       "      <td>One Way</td>\n",
       "      <td>Monthly Pass</td>\n",
       "      <td>standard</td>\n",
       "      <td>2019</td>\n",
       "      <td>July</td>\n",
       "      <td>1</td>\n",
       "      <td>Mon</td>\n",
       "    </tr>\n",
       "  </tbody>\n",
       "</table>\n",
       "</div>"
      ],
      "text/plain": [
       "     trip_id  duration          start_time       end_time  start_station  \\\n",
       "0  124657107         5 2019-07-01 00:04:00  7-1-2019 0:09           4312   \n",
       "\n",
       "   start_lat   start_lon  end_station    end_lat     end_lon bike_id  \\\n",
       "0   34.06699 -118.290878         4410  34.063351 -118.296799    6168   \n",
       "\n",
       "   plan_duration trip_route_category passholder_type bike_type  year month  \\\n",
       "0             30             One Way    Monthly Pass  standard  2019  July   \n",
       "\n",
       "   day week_day  \n",
       "0    1      Mon  "
      ]
     },
     "execution_count": 272,
     "metadata": {},
     "output_type": "execute_result"
    }
   ],
   "source": [
    "# Checking the replacing process: '/' with '-'\n",
    "df.query('trip_id == \"124657107\"')"
   ]
  },
  {
   "cell_type": "code",
   "execution_count": 273,
   "metadata": {},
   "outputs": [
    {
     "data": {
      "text/plain": [
       "Aug     32843\n",
       "Sep     30781\n",
       "Oct     30179\n",
       "July    28500\n",
       "June    26881\n",
       "Nov     24034\n",
       "Dec     22102\n",
       "Mar     20922\n",
       "Jan     19471\n",
       "May     18922\n",
       "Apr     18742\n",
       "Feb     16965\n",
       "Name: month, dtype: int64"
      ]
     },
     "execution_count": 273,
     "metadata": {},
     "output_type": "execute_result"
    }
   ],
   "source": [
    "# Checking the month names\n",
    "df['month'].value_counts()"
   ]
  },
  {
   "cell_type": "code",
   "execution_count": 274,
   "metadata": {},
   "outputs": [
    {
     "data": {
      "text/plain": [
       "Fri    45486\n",
       "Tue    45249\n",
       "Thu    43829\n",
       "Wed    41854\n",
       "Mon    41831\n",
       "Sun    36354\n",
       "Sat    35739\n",
       "Name: week_day, dtype: int64"
      ]
     },
     "execution_count": 274,
     "metadata": {},
     "output_type": "execute_result"
    }
   ],
   "source": [
    "# Checking the weekday names\n",
    "df['week_day'].value_counts()"
   ]
  },
  {
   "cell_type": "markdown",
   "metadata": {},
   "source": [
    "## Data analysis"
   ]
  },
  {
   "cell_type": "markdown",
   "metadata": {},
   "source": [
    "This section aims to answer questions such as those questions listed below:\n",
    "\n",
    "- What is the estimated number of bikes available for trips in Los Angeles?\n",
    "- How many stations are there in Los Angeles according to the dataframe?\n",
    "- What is the duration average of a trip made by bike users in Los Angeles?\n",
    "- What are the duration averages of a trip by different type of users?\n",
    "- What is the favorite ticket type among users?\n",
    "- What is the favorite bike type among the most frequent users?\n",
    "- What is the day of the week with more tip?\n",
    "- What month of the year do the trips increase?\n",
    "- How is the distribution of the trips for month?"
   ]
  },
  {
   "cell_type": "code",
   "execution_count": 275,
   "metadata": {},
   "outputs": [
    {
     "data": {
      "text/plain": [
       "5094"
      ]
     },
     "execution_count": 275,
     "metadata": {},
     "output_type": "execute_result"
    }
   ],
   "source": [
    "#number of bikes available\n",
    "df['bike_id'].nunique()"
   ]
  },
  {
   "cell_type": "code",
   "execution_count": 276,
   "metadata": {},
   "outputs": [
    {
     "data": {
      "text/plain": [
       "1049"
      ]
     },
     "execution_count": 276,
     "metadata": {},
     "output_type": "execute_result"
    }
   ],
   "source": [
    "#number of station available\n",
    "station = (df['start_station'] + df['end_station']).nunique()\n",
    "station"
   ]
  },
  {
   "cell_type": "code",
   "execution_count": 277,
   "metadata": {},
   "outputs": [
    {
     "data": {
      "text/plain": [
       "31.080797817745967"
      ]
     },
     "execution_count": 277,
     "metadata": {},
     "output_type": "execute_result"
    }
   ],
   "source": [
    "#trip average duration\n",
    "df['duration'].mean()"
   ]
  },
  {
   "cell_type": "code",
   "execution_count": 278,
   "metadata": {},
   "outputs": [
    {
     "data": {
      "text/plain": [
       "Monthly Pass    172665\n",
       "Walk-up          80854\n",
       "Annual Pass      21659\n",
       "One Day Pass     14731\n",
       "Flex Pass          320\n",
       "Testing            113\n",
       "Name: passholder_type, dtype: int64"
      ]
     },
     "execution_count": 278,
     "metadata": {},
     "output_type": "execute_result"
    }
   ],
   "source": [
    "# favorite type of ticket among different users type\n",
    "df['passholder_type'].value_counts()"
   ]
  },
  {
   "cell_type": "code",
   "execution_count": 279,
   "metadata": {},
   "outputs": [
    {
     "data": {
      "text/plain": [
       "14.978768134827556"
      ]
     },
     "execution_count": 279,
     "metadata": {},
     "output_type": "execute_result"
    }
   ],
   "source": [
    "#duration of a trip by Monthly Pass\n",
    "df.query('passholder_type == \"Monthly Pass\"')['duration'].mean()"
   ]
  },
  {
   "cell_type": "code",
   "execution_count": 280,
   "metadata": {},
   "outputs": [
    {
     "data": {
      "text/plain": [
       "62.38157666905781"
      ]
     },
     "execution_count": 280,
     "metadata": {},
     "output_type": "execute_result"
    }
   ],
   "source": [
    "#duration of a trip by Walk-up\n",
    "df.query('passholder_type == \"Walk-up\"')['duration'].mean()"
   ]
  },
  {
   "cell_type": "code",
   "execution_count": 281,
   "metadata": {},
   "outputs": [
    {
     "data": {
      "text/plain": [
       "15.677316588946859"
      ]
     },
     "execution_count": 281,
     "metadata": {},
     "output_type": "execute_result"
    }
   ],
   "source": [
    "#duration of a trip by Annual Pass\n",
    "df.query('passholder_type == \"Annual Pass\"')['duration'].mean()"
   ]
  },
  {
   "cell_type": "code",
   "execution_count": 282,
   "metadata": {},
   "outputs": [
    {
     "data": {
      "text/plain": [
       "70.8218722422103"
      ]
     },
     "execution_count": 282,
     "metadata": {},
     "output_type": "execute_result"
    }
   ],
   "source": [
    "#duration of a trip by One Day Pass\n",
    "df.query('passholder_type == \"One Day Pass\"')['duration'].mean()"
   ]
  },
  {
   "cell_type": "code",
   "execution_count": 283,
   "metadata": {},
   "outputs": [
    {
     "data": {
      "text/plain": [
       "24.340625"
      ]
     },
     "execution_count": 283,
     "metadata": {},
     "output_type": "execute_result"
    }
   ],
   "source": [
    "#duration of a trip by Flex Pass \n",
    "df.query('passholder_type == \"Flex Pass\"')['duration'].mean()"
   ]
  },
  {
   "cell_type": "code",
   "execution_count": 284,
   "metadata": {},
   "outputs": [
    {
     "data": {
      "text/plain": [
       "29.47787610619469"
      ]
     },
     "execution_count": 284,
     "metadata": {},
     "output_type": "execute_result"
    }
   ],
   "source": [
    "#duration of a trip by Testing\n",
    "df.query('passholder_type == \"Testing\"')['duration'].mean()"
   ]
  },
  {
   "cell_type": "markdown",
   "metadata": {},
   "source": [
    "##### It seems that people who use the bike system for longer trip durations prefer the One Day Pass system. "
   ]
  },
  {
   "cell_type": "code",
   "execution_count": 285,
   "metadata": {},
   "outputs": [
    {
     "data": {
      "text/plain": [
       "standard    154217\n",
       "electric     96490\n",
       "smart        39635\n",
       "Name: bike_type, dtype: int64"
      ]
     },
     "execution_count": 285,
     "metadata": {},
     "output_type": "execute_result"
    }
   ],
   "source": [
    "#favorite bike type \n",
    "\n",
    "df['bike_type'].value_counts()"
   ]
  },
  {
   "cell_type": "code",
   "execution_count": 286,
   "metadata": {},
   "outputs": [],
   "source": [
    "monthly_pass = df.query('passholder_type == \"Monthly Pass\"')\n",
    "walk_up = df.query('passholder_type == \"Walk-up\"')\n",
    "annual_pass = df.query('passholder_type == \"Annual Pass\"')\n",
    "one_day = df.query('passholder_type == \"One Day Pass\"')\n",
    "flex_pass = df.query('passholder_type == \"Flex Pass\"')\n",
    "test = df.query('passholder_type == \"Testing\"')"
   ]
  },
  {
   "cell_type": "code",
   "execution_count": 287,
   "metadata": {},
   "outputs": [
    {
     "data": {
      "text/plain": [
       "standard    86735\n",
       "electric    75399\n",
       "smart       10531\n",
       "Name: bike_type, dtype: int64"
      ]
     },
     "execution_count": 287,
     "metadata": {},
     "output_type": "execute_result"
    }
   ],
   "source": [
    "#favorite type - monthly pass \n",
    "monthly_pass['bike_type'].value_counts()"
   ]
  },
  {
   "cell_type": "code",
   "execution_count": 288,
   "metadata": {},
   "outputs": [
    {
     "data": {
      "text/plain": [
       "standard    48271\n",
       "smart       21439\n",
       "electric    11144\n",
       "Name: bike_type, dtype: int64"
      ]
     },
     "execution_count": 288,
     "metadata": {},
     "output_type": "execute_result"
    }
   ],
   "source": [
    "#favorite type - walk up \n",
    "walk_up['bike_type'].value_counts()"
   ]
  },
  {
   "cell_type": "code",
   "execution_count": 289,
   "metadata": {},
   "outputs": [
    {
     "data": {
      "text/plain": [
       "standard    13091\n",
       "electric     7510\n",
       "smart        1058\n",
       "Name: bike_type, dtype: int64"
      ]
     },
     "execution_count": 289,
     "metadata": {},
     "output_type": "execute_result"
    }
   ],
   "source": [
    "#favorite type - annual pass \n",
    "annual_pass['bike_type'].value_counts()"
   ]
  },
  {
   "cell_type": "code",
   "execution_count": 290,
   "metadata": {},
   "outputs": [
    {
     "data": {
      "text/plain": [
       "smart       6490\n",
       "standard    5807\n",
       "electric    2434\n",
       "Name: bike_type, dtype: int64"
      ]
     },
     "execution_count": 290,
     "metadata": {},
     "output_type": "execute_result"
    }
   ],
   "source": [
    "#favorite type - one day pass \n",
    "one_day['bike_type'].value_counts()"
   ]
  },
  {
   "cell_type": "code",
   "execution_count": 291,
   "metadata": {},
   "outputs": [
    {
     "data": {
      "text/plain": [
       "standard    312\n",
       "smart         5\n",
       "electric      3\n",
       "Name: bike_type, dtype: int64"
      ]
     },
     "execution_count": 291,
     "metadata": {},
     "output_type": "execute_result"
    }
   ],
   "source": [
    "#favorite type - flex pass \n",
    "flex_pass['bike_type'].value_counts()"
   ]
  },
  {
   "cell_type": "code",
   "execution_count": 292,
   "metadata": {},
   "outputs": [
    {
     "data": {
      "text/plain": [
       "smart       112\n",
       "standard      1\n",
       "Name: bike_type, dtype: int64"
      ]
     },
     "execution_count": 292,
     "metadata": {},
     "output_type": "execute_result"
    }
   ],
   "source": [
    "#favorite type - testing\n",
    "test['bike_type'].value_counts()"
   ]
  },
  {
   "cell_type": "code",
   "execution_count": 293,
   "metadata": {},
   "outputs": [
    {
     "data": {
      "text/plain": [
       "(172665, 19)"
      ]
     },
     "execution_count": 293,
     "metadata": {},
     "output_type": "execute_result"
    }
   ],
   "source": [
    "monthly_pass.shape\n"
   ]
  },
  {
   "cell_type": "code",
   "execution_count": 294,
   "metadata": {},
   "outputs": [
    {
     "data": {
      "text/plain": [
       "(80854, 19)"
      ]
     },
     "execution_count": 294,
     "metadata": {},
     "output_type": "execute_result"
    }
   ],
   "source": [
    "walk_up.shape"
   ]
  },
  {
   "cell_type": "code",
   "execution_count": 295,
   "metadata": {},
   "outputs": [
    {
     "data": {
      "text/plain": [
       "(21659, 19)"
      ]
     },
     "execution_count": 295,
     "metadata": {},
     "output_type": "execute_result"
    }
   ],
   "source": [
    "annual_pass.shape"
   ]
  },
  {
   "cell_type": "code",
   "execution_count": 296,
   "metadata": {},
   "outputs": [
    {
     "data": {
      "text/plain": [
       "(14731, 19)"
      ]
     },
     "execution_count": 296,
     "metadata": {},
     "output_type": "execute_result"
    }
   ],
   "source": [
    "one_day.shape"
   ]
  },
  {
   "cell_type": "code",
   "execution_count": 297,
   "metadata": {},
   "outputs": [
    {
     "data": {
      "text/plain": [
       "(320, 19)"
      ]
     },
     "execution_count": 297,
     "metadata": {},
     "output_type": "execute_result"
    }
   ],
   "source": [
    "flex_pass.shape"
   ]
  },
  {
   "cell_type": "code",
   "execution_count": 298,
   "metadata": {},
   "outputs": [
    {
     "data": {
      "text/plain": [
       "(113, 19)"
      ]
     },
     "execution_count": 298,
     "metadata": {},
     "output_type": "execute_result"
    }
   ],
   "source": [
    "test.shape"
   ]
  },
  {
   "cell_type": "markdown",
   "metadata": {},
   "source": [
    "##### People who use the monthly pass are the most frequent users of bikeshare metro. Apparently, they prefer the standard bike."
   ]
  },
  {
   "cell_type": "code",
   "execution_count": 299,
   "metadata": {},
   "outputs": [
    {
     "data": {
      "text/html": [
       "<div>\n",
       "<style scoped>\n",
       "    .dataframe tbody tr th:only-of-type {\n",
       "        vertical-align: middle;\n",
       "    }\n",
       "\n",
       "    .dataframe tbody tr th {\n",
       "        vertical-align: top;\n",
       "    }\n",
       "\n",
       "    .dataframe thead th {\n",
       "        text-align: right;\n",
       "    }\n",
       "</style>\n",
       "<table border=\"1\" class=\"dataframe\">\n",
       "  <thead>\n",
       "    <tr style=\"text-align: right;\">\n",
       "      <th></th>\n",
       "      <th>trip_id</th>\n",
       "      <th>duration</th>\n",
       "      <th>start_time</th>\n",
       "      <th>end_time</th>\n",
       "      <th>start_station</th>\n",
       "      <th>start_lat</th>\n",
       "      <th>start_lon</th>\n",
       "      <th>end_station</th>\n",
       "      <th>end_lat</th>\n",
       "      <th>end_lon</th>\n",
       "      <th>bike_id</th>\n",
       "      <th>plan_duration</th>\n",
       "      <th>trip_route_category</th>\n",
       "      <th>passholder_type</th>\n",
       "      <th>bike_type</th>\n",
       "      <th>year</th>\n",
       "      <th>month</th>\n",
       "      <th>day</th>\n",
       "      <th>week_day</th>\n",
       "    </tr>\n",
       "  </thead>\n",
       "  <tbody>\n",
       "    <tr>\n",
       "      <th>0</th>\n",
       "      <td>112536773</td>\n",
       "      <td>7</td>\n",
       "      <td>2019-01-01 00:07:00</td>\n",
       "      <td>2019-01-01 00:14:00</td>\n",
       "      <td>3046</td>\n",
       "      <td>34.052872</td>\n",
       "      <td>-118.24749</td>\n",
       "      <td>3051</td>\n",
       "      <td>34.045422</td>\n",
       "      <td>-118.253517</td>\n",
       "      <td>06468</td>\n",
       "      <td>1</td>\n",
       "      <td>One Way</td>\n",
       "      <td>Walk-up</td>\n",
       "      <td>standard</td>\n",
       "      <td>2019</td>\n",
       "      <td>Jan</td>\n",
       "      <td>1</td>\n",
       "      <td>Tue</td>\n",
       "    </tr>\n",
       "  </tbody>\n",
       "</table>\n",
       "</div>"
      ],
      "text/plain": [
       "     trip_id  duration          start_time             end_time  \\\n",
       "0  112536773         7 2019-01-01 00:07:00  2019-01-01 00:14:00   \n",
       "\n",
       "   start_station  start_lat  start_lon  end_station    end_lat     end_lon  \\\n",
       "0           3046  34.052872 -118.24749         3051  34.045422 -118.253517   \n",
       "\n",
       "  bike_id  plan_duration trip_route_category passholder_type bike_type  year  \\\n",
       "0   06468              1             One Way         Walk-up  standard  2019   \n",
       "\n",
       "  month  day week_day  \n",
       "0   Jan    1      Tue  "
      ]
     },
     "execution_count": 299,
     "metadata": {},
     "output_type": "execute_result"
    }
   ],
   "source": [
    "df.head(1)"
   ]
  },
  {
   "cell_type": "code",
   "execution_count": 300,
   "metadata": {},
   "outputs": [
    {
     "data": {
      "text/plain": [
       "Fri    45486\n",
       "Tue    45249\n",
       "Thu    43829\n",
       "Wed    41854\n",
       "Mon    41831\n",
       "Sun    36354\n",
       "Sat    35739\n",
       "Name: week_day, dtype: int64"
      ]
     },
     "execution_count": 300,
     "metadata": {},
     "output_type": "execute_result"
    }
   ],
   "source": [
    "# weekday with more trips \n",
    "df['week_day'].value_counts()"
   ]
  },
  {
   "cell_type": "markdown",
   "metadata": {},
   "source": [
    "##### The day of the week with more trips is Friday. However, there is just a few difference between the others weekdays (Tuesday, Thursday, Wednesday and Monday). These number could indicate that bikes are common used by people to go to their jobs.   \n"
   ]
  },
  {
   "cell_type": "code",
   "execution_count": 301,
   "metadata": {},
   "outputs": [
    {
     "data": {
      "text/plain": [
       "Aug     32843\n",
       "Sep     30781\n",
       "Oct     30179\n",
       "July    28500\n",
       "June    26881\n",
       "Nov     24034\n",
       "Dec     22102\n",
       "Mar     20922\n",
       "Jan     19471\n",
       "May     18922\n",
       "Apr     18742\n",
       "Feb     16965\n",
       "Name: month, dtype: int64"
      ]
     },
     "execution_count": 301,
     "metadata": {},
     "output_type": "execute_result"
    }
   ],
   "source": [
    "df['month'].value_counts()"
   ]
  },
  {
   "cell_type": "markdown",
   "metadata": {},
   "source": [
    "# Visualizations"
   ]
  },
  {
   "cell_type": "code",
   "execution_count": 302,
   "metadata": {},
   "outputs": [],
   "source": [
    "base_color = sb.color_palette(\"rocket_r\")\n",
    "base_color2 = base_color2 = sb.color_palette()[0]"
   ]
  },
  {
   "cell_type": "markdown",
   "metadata": {},
   "source": [
    "## Univariate Exploration"
   ]
  },
  {
   "cell_type": "code",
   "execution_count": 303,
   "metadata": {},
   "outputs": [
    {
     "data": {
      "image/png": "[encoded data removed]",
      "text/plain": [
       "<Figure size 432x288 with 1 Axes>"
      ]
     },
     "metadata": {},
     "output_type": "display_data"
    }
   ],
   "source": [
    "# favorite bike types of users - Bike share metro \n",
    "biketype_counts = df['bike_type'].value_counts()\n",
    "plt.pie(biketype_counts, colors = base_color, labels = biketype_counts.index, startangle = 90, counterclock = False)\n",
    "plt.axis('square');"
   ]
  },
  {
   "cell_type": "markdown",
   "metadata": {},
   "source": [
    "The favorite bike type is the standard one. "
   ]
  },
  {
   "cell_type": "code",
   "execution_count": 304,
   "metadata": {},
   "outputs": [
    {
     "data": {
      "image/png": "[encoded data removed]",
      "text/plain": [
       "<Figure size 432x288 with 1 Axes>"
      ]
     },
     "metadata": {
      "needs_background": "light"
     },
     "output_type": "display_data"
    }
   ],
   "source": [
    "# favorite pass types of users - Bike share metro\n",
    "\n",
    "maxpass = pass_holder_type[0]\n",
    "npass_type = df['passholder_type'].value_counts().sum()\n",
    "npass_type\n",
    "max_prop = maxpass/npass_type\n",
    " \n",
    "tick_props = np.arange(0, max_prop, 0.1)\n",
    "tick_names = ['{:0.2f}'.format(v) for v in tick_props]\n",
    "\n",
    "passholder_order = df['passholder_type'].value_counts().index\n",
    "pass_holder_type = df['passholder_type'].value_counts()\n",
    "type_p = df['passholder_type']\n",
    "\n",
    "sb.countplot(data = df, y = 'passholder_type', color = base_color2, order = passholder_order);\n",
    "\n",
    "plt.xticks(tick_props * npass_type, tick_names)\n",
    "plt.xlabel('proportion');"
   ]
  },
  {
   "cell_type": "markdown",
   "metadata": {},
   "source": [
    "There are more poeple using monthly passholder in the Bike share metro system. "
   ]
  },
  {
   "cell_type": "code",
   "execution_count": 305,
   "metadata": {},
   "outputs": [
    {
     "data": {
      "image/png": "[encoded data removed]",
      "text/plain": [
       "<Figure size 432x288 with 1 Axes>"
      ]
     },
     "metadata": {
      "needs_background": "light"
     },
     "output_type": "display_data"
    }
   ],
   "source": [
    "# Trips for weekday\n",
    "sb.countplot(data = df, x = 'week_day', color = base_color2, order = ['Mon', 'Tue', 'Wed', 'Thu','Fri', 'Sat', 'Sun']);"
   ]
  },
  {
   "cell_type": "markdown",
   "metadata": {},
   "source": [
    "As we observed before, the are more trip during the week. "
   ]
  },
  {
   "cell_type": "code",
   "execution_count": 306,
   "metadata": {},
   "outputs": [
    {
     "data": {
      "image/png": "[encoded data removed]",
      "text/plain": [
       "<Figure size 432x288 with 1 Axes>"
      ]
     },
     "metadata": {
      "needs_background": "light"
     },
     "output_type": "display_data"
    }
   ],
   "source": [
    "# Trips for day\n",
    "sb.countplot(data = df, x = 'day', color = base_color2)\n",
    "plt.xticks(fontsize=7);"
   ]
  },
  {
   "cell_type": "markdown",
   "metadata": {},
   "source": [
    "The worst day of bike acitivity is the last day of the month."
   ]
  },
  {
   "cell_type": "markdown",
   "metadata": {},
   "source": [
    "## Bivariate Exploration"
   ]
  },
  {
   "cell_type": "code",
   "execution_count": 307,
   "metadata": {},
   "outputs": [
    {
     "data": {
      "text/plain": [
       "Text(0.5, 0, 'Trip duration (minutes)')"
      ]
     },
     "execution_count": 307,
     "metadata": {},
     "output_type": "execute_result"
    },
    {
     "data": {
      "image/png": "[encoded data removed]",
      "text/plain": [
       "<Figure size 432x288 with 1 Axes>"
      ]
     },
     "metadata": {
      "needs_background": "light"
     },
     "output_type": "display_data"
    }
   ],
   "source": [
    "# Plot Pass holder type x Trip Duration \n",
    "passtype_classes = ['Monthly Pass', 'Walk-up', 'Annual Pass', 'One Day Pass', 'Flex Pass','Testing']\n",
    "vclasses = pd.api.types.CategoricalDtype(ordered=True, categories=passtype_classes)\n",
    "df['passclasses'] = df['passholder_type'].astype(vclasses);\n",
    "sb.violinplot(data=df, x='duration', y='passclasses', color = base_color2);\n",
    "plt.xlabel('Trip duration (minutes)')\n"
   ]
  },
  {
   "cell_type": "markdown",
   "metadata": {},
   "source": [
    "## Multivariate analysis"
   ]
  },
  {
   "cell_type": "code",
   "execution_count": 308,
   "metadata": {},
   "outputs": [
    {
     "data": {
      "image/png": "[encoded data removed]",
      "text/plain": [
       "<Figure size 432x288 with 1 Axes>"
      ]
     },
     "metadata": {
      "needs_background": "light"
     },
     "output_type": "display_data"
    }
   ],
   "source": [
    "average_duration_by_city_and_subscription_type = df.groupby(['bike_type','passholder_type'])['duration'].mean().unstack()\n",
    "average_duration_by_city_and_subscription_type.plot(kind='barh', color = base_color)\n",
    "\n",
    "plt.title('Trip duration by passholder and bike type')\n",
    "plt.ylabel('Bike type')\n",
    "plt.xlabel('Duration (minutes)')\n",
    "plt.show()\n"
   ]
  },
  {
   "cell_type": "code",
   "execution_count": 309,
   "metadata": {},
   "outputs": [],
   "source": [
    "df.to_csv('bike_df.csv')"
   ]
  }
 ],
 "metadata": {
  "kernelspec": {
   "display_name": "Python 3",
   "language": "python",
   "name": "python3"
  },
  "language_info": {
   "codemirror_mode": {
    "name": "ipython",
    "version": 3
   },
   "file_extension": ".py",
   "mimetype": "text/x-python",
   "name": "python",
   "nbconvert_exporter": "python",
   "pygments_lexer": "ipython3",
   "version": "3.7.4"
  }
 },
 "nbformat": 4,
 "nbformat_minor": 2
}
