{
 "cells": [
  {
   "cell_type": "markdown",
   "metadata": {},
   "source": [
    "### Wrangle report - WeRate Dogs \n",
    "###### A data-wragling project by Thaina Venteu\n",
    "\n",
    "\n",
    "Real-world data are not really clean. WeRateDogs is a Twitter account that rates people's dogs with a humorous comment about the dog. Here, we aim to wrangle WeRateDogs Twitter data to obtain insights about what people think about the dogs on the twitter page. The dogs receive ratings and these ratings almost always have a denominator of 10 and numerators of these ratings are greater than 10 such as 11/10, 12/10, 13/10, etc. because they are good dogs.\n",
    "\n",
    "All the analysis were created by using Python 3 and its libraries. We separated the data wrangling process in 3 steps: \n",
    "\n",
    "1. Data gathering \n",
    "2. Data assessing \n",
    "3. Data cleaning\n",
    "\n",
    "Some data cleaning considerations and troubleshooting: \n",
    "\n",
    "##### - There are some errors with the classification as we can see when rating_denominator greater than 10. These errors have been removed from dataframe by dropping the tweets. The problem with ’Ratings denominator> 10’ was solved by removing this data from the dataframe using the ’.drop ()’ function.\n",
    "(I decided by keeping the errors with the numerator_rating in cases that it means they are really good dogs)\n",
    "\n",
    "\n",
    "##### - Some dog names were not extracted correctly, as we can see in the columns filled with ’quite’,\n",
    "’a’ or ’an’. These words were replaced with ’none’ in the name column.\n",
    "\n",
    "\n",
    "##### - The columns ’doggo’, ’pupper’ and ’puppo’ are replaced by ’dog_stage’ column by summing these three columns and creating the resulting ’dog_stage’ column, as you can see in the line below. \n",
    "\n",
    "\n",
    "df_archive [’ dog_stage ’] = df_archive [’ doggo ’] + df_archive [’ pupper ’] +\n",
    "df_archive [’ puppo ’]\n",
    "After that, the ’doggo’, ’pupper’ and ’puppo’ columns were removed.\n",
    "\n",
    "\n",
    "\n",
    "##### - There were duplicated data in the ’tweet_jason’ dataframe and they were removed.\n",
    "\n",
    "\n",
    "##### - Columns with missing data in df_archive: [in_reply_to_status_id, in_reply_to_user_id,\n",
    "retweeted_status_id, retweeted_status_user_id, retweeted_status_timestamp, expanded_urls]\n",
    "\n",
    "\n",
    "##### - The decimal dog ratings was extracted by using .str.extract() function.\n",
    "\n",
    "\n",
    "\n",
    "The data wrangling process was performed by using the following libraries:\n",
    "\n",
    "\n",
    "1. pandas\n",
    "\n",
    "2. NumPy\n",
    "\n",
    "3. requests\n",
    "\n",
    "4. tweepy\n",
    "\n",
    "5. json\n"
   ]
  }
 ],
 "metadata": {
  "kernelspec": {
   "display_name": "Python 3",
   "language": "python",
   "name": "python3"
  },
  "language_info": {
   "codemirror_mode": {
    "name": "ipython",
    "version": 3
   },
   "file_extension": ".py",
   "mimetype": "text/x-python",
   "name": "python",
   "nbconvert_exporter": "python",
   "pygments_lexer": "ipython3",
   "version": "3.6.3"
  }
 },
 "nbformat": 4,
 "nbformat_minor": 2
}
